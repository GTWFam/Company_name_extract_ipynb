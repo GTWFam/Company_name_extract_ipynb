{
 "cells": [
  {
   "cell_type": "code",
   "execution_count": 1,
   "metadata": {},
   "outputs": [],
   "source": [
    "from difflib import SequenceMatcher\n",
    "import pandas as pd\n",
    "import numpy as np\n",
    "import json\n",
    "import string\n",
    "import re\n",
    "\n",
    "from openpyxl import load_workbook"
   ]
  },
  {
   "cell_type": "code",
   "execution_count": 2,
   "metadata": {},
   "outputs": [
    {
     "name": "stdout",
     "output_type": "stream",
     "text": [
      "282\n",
      "981\n",
      "1006\n",
      "53\n",
      "114\n"
     ]
    }
   ],
   "source": [
    "wb = load_workbook(filename='../sheets/ValueOps Work.xlsx')\n",
    "\n",
    "ad_ban_raw = pd.read_excel(\n",
    "    '../sheets/ValueOps Work.xlsx', sheet_name=wb.sheetnames[1])\n",
    "ad_nat_raw = pd.read_excel(\n",
    "    '../sheets/ValueOps Work.xlsx', sheet_name=wb.sheetnames[2])\n",
    "white_space_raw = pd.read_excel(\n",
    "    '../sheets/ValueOps Work.xlsx', sheet_name=wb.sheetnames[3])\n",
    "target_raw = pd.read_excel(\n",
    "    '../sheets/ValueOps Work.xlsx', sheet_name=wb.sheetnames[4])\n",
    "leads_raw = pd.read_excel(\n",
    "    '../sheets/ValueOps Work.xlsx', sheet_name=wb.sheetnames[5])\n",
    "\n",
    "print(leads_raw.shape[0])\n",
    "print(ad_ban_raw.shape[0])\n",
    "print(ad_nat_raw.shape[0])\n",
    "print(white_space_raw.shape[0])\n",
    "print(target_raw.shape[0])"
   ]
  },
  {
   "cell_type": "code",
   "execution_count": 3,
   "metadata": {},
   "outputs": [
    {
     "data": {
      "text/html": [
       "<div>\n",
       "<style scoped>\n",
       "    .dataframe tbody tr th:only-of-type {\n",
       "        vertical-align: middle;\n",
       "    }\n",
       "\n",
       "    .dataframe tbody tr th {\n",
       "        vertical-align: top;\n",
       "    }\n",
       "\n",
       "    .dataframe thead th {\n",
       "        text-align: right;\n",
       "    }\n",
       "</style>\n",
       "<table border=\"1\" class=\"dataframe\">\n",
       "  <thead>\n",
       "    <tr style=\"text-align: right;\">\n",
       "      <th></th>\n",
       "      <th>Company Name</th>\n",
       "    </tr>\n",
       "  </thead>\n",
       "  <tbody>\n",
       "    <tr>\n",
       "      <th>0</th>\n",
       "      <td>UPS</td>\n",
       "    </tr>\n",
       "    <tr>\n",
       "      <th>1</th>\n",
       "      <td>Wells Fargo Bank National Association</td>\n",
       "    </tr>\n",
       "    <tr>\n",
       "      <th>2</th>\n",
       "      <td>Workday</td>\n",
       "    </tr>\n",
       "    <tr>\n",
       "      <th>3</th>\n",
       "      <td>Accenture</td>\n",
       "    </tr>\n",
       "    <tr>\n",
       "      <th>4</th>\n",
       "      <td>Wells Fargo Bank National Association</td>\n",
       "    </tr>\n",
       "  </tbody>\n",
       "</table>\n",
       "</div>"
      ],
      "text/plain": [
       "                            Company Name\n",
       "0                                    UPS\n",
       "1  Wells Fargo Bank National Association\n",
       "2                                Workday\n",
       "3                              Accenture\n",
       "4  Wells Fargo Bank National Association"
      ]
     },
     "execution_count": 3,
     "metadata": {},
     "output_type": "execute_result"
    }
   ],
   "source": [
    "leads = leads_raw[['Company Name']]\n",
    "leads.head()"
   ]
  },
  {
   "cell_type": "code",
   "execution_count": 4,
   "metadata": {},
   "outputs": [],
   "source": [
    "ad_ban = ad_ban_raw.copy()\n",
    "ad_ban.columns = ad_ban_raw.iloc[6]\n",
    "ad_ban = ad_ban.iloc[7:,0:3]\n",
    "ad_ban.reset_index(drop=True, inplace=True)\n",
    "ad_ban['Clicks'] = ad_ban['Clicks'].apply(lambda x: x if type(x) == int else 0)\n",
    "ad_ban.head(5)\n",
    "ad_ban_map = {}\n",
    "for index, row in ad_ban.iterrows():\n",
    "  ad_ban_map[row['Business Name']] = {\n",
    "    'Impressions': row['Impressions'],\n",
    "    'Clicks': row['Clicks']\n",
    "  }"
   ]
  },
  {
   "cell_type": "code",
   "execution_count": 5,
   "metadata": {},
   "outputs": [],
   "source": [
    "ad_nat = ad_nat_raw.copy()\n",
    "ad_nat = ad_nat.iloc[:,0:3]\n",
    "ad_nat['Clicks'] = ad_nat['Clicks'].apply(lambda x: x if type(x) == int else 0)\n",
    "ad_nat_map = {}\n",
    "for index, row in ad_nat.iterrows():\n",
    "  ad_nat_map[row['Business Name']] = {\n",
    "    'Impressions': row['Impressions'],\n",
    "    'Clicks': row['Clicks']\n",
    "  }"
   ]
  },
  {
   "cell_type": "code",
   "execution_count": 6,
   "metadata": {},
   "outputs": [
    {
     "data": {
      "text/html": [
       "<div>\n",
       "<style scoped>\n",
       "    .dataframe tbody tr th:only-of-type {\n",
       "        vertical-align: middle;\n",
       "    }\n",
       "\n",
       "    .dataframe tbody tr th {\n",
       "        vertical-align: top;\n",
       "    }\n",
       "\n",
       "    .dataframe thead th {\n",
       "        text-align: right;\n",
       "    }\n",
       "</style>\n",
       "<table border=\"1\" class=\"dataframe\">\n",
       "  <thead>\n",
       "    <tr style=\"text-align: right;\">\n",
       "      <th></th>\n",
       "      <th>Parent Account Name</th>\n",
       "    </tr>\n",
       "  </thead>\n",
       "  <tbody>\n",
       "    <tr>\n",
       "      <th>0</th>\n",
       "      <td>Abbott Laboratories</td>\n",
       "    </tr>\n",
       "    <tr>\n",
       "      <th>1</th>\n",
       "      <td>ABN Amro Group N.V.</td>\n",
       "    </tr>\n",
       "    <tr>\n",
       "      <th>2</th>\n",
       "      <td>Accenture</td>\n",
       "    </tr>\n",
       "    <tr>\n",
       "      <th>3</th>\n",
       "      <td>Allianz SE</td>\n",
       "    </tr>\n",
       "    <tr>\n",
       "      <th>4</th>\n",
       "      <td>Amgen Inc.</td>\n",
       "    </tr>\n",
       "  </tbody>\n",
       "</table>\n",
       "</div>"
      ],
      "text/plain": [
       "   Parent Account Name\n",
       "0  Abbott Laboratories\n",
       "1  ABN Amro Group N.V.\n",
       "2            Accenture\n",
       "3           Allianz SE\n",
       "4           Amgen Inc."
      ]
     },
     "execution_count": 6,
     "metadata": {},
     "output_type": "execute_result"
    }
   ],
   "source": [
    "white_space = white_space_raw[['Parent Account Name']]\n",
    "white_space.head(5)"
   ]
  },
  {
   "cell_type": "code",
   "execution_count": 7,
   "metadata": {},
   "outputs": [
    {
     "data": {
      "text/html": [
       "<div>\n",
       "<style scoped>\n",
       "    .dataframe tbody tr th:only-of-type {\n",
       "        vertical-align: middle;\n",
       "    }\n",
       "\n",
       "    .dataframe tbody tr th {\n",
       "        vertical-align: top;\n",
       "    }\n",
       "\n",
       "    .dataframe thead th {\n",
       "        text-align: right;\n",
       "    }\n",
       "</style>\n",
       "<table border=\"1\" class=\"dataframe\">\n",
       "  <thead>\n",
       "    <tr style=\"text-align: right;\">\n",
       "      <th></th>\n",
       "      <th>Company Name</th>\n",
       "    </tr>\n",
       "  </thead>\n",
       "  <tbody>\n",
       "    <tr>\n",
       "      <th>0</th>\n",
       "      <td>American Airlines</td>\n",
       "    </tr>\n",
       "    <tr>\n",
       "      <th>1</th>\n",
       "      <td>Abbott Laboratories</td>\n",
       "    </tr>\n",
       "    <tr>\n",
       "      <th>2</th>\n",
       "      <td>Abbvie</td>\n",
       "    </tr>\n",
       "    <tr>\n",
       "      <th>3</th>\n",
       "      <td>Aetna</td>\n",
       "    </tr>\n",
       "    <tr>\n",
       "      <th>4</th>\n",
       "      <td>Accenture</td>\n",
       "    </tr>\n",
       "  </tbody>\n",
       "</table>\n",
       "</div>"
      ],
      "text/plain": [
       "          Company Name\n",
       "0    American Airlines\n",
       "1  Abbott Laboratories\n",
       "2               Abbvie\n",
       "3                Aetna\n",
       "4            Accenture"
      ]
     },
     "execution_count": 7,
     "metadata": {},
     "output_type": "execute_result"
    }
   ],
   "source": [
    "target = target_raw[['Company Name']]\n",
    "target.head(5)"
   ]
  },
  {
   "cell_type": "code",
   "execution_count": 8,
   "metadata": {},
   "outputs": [],
   "source": [
    "def sim(a, b):\n",
    "  return SequenceMatcher(None, a, b).ratio()\n",
    "\n",
    "\n",
    "def clean_name(name):\n",
    "  name = name.lower()\n",
    "  name = name.translate(\n",
    "      str.maketrans('', '', string.punctuation.replace(\"&\", '')))\n",
    "  name = name.strip()\n",
    "  name = name.replace(\"  \", ' ')\n",
    "  name = name.replace(' inc', '')\n",
    "  name = name.replace(\" llc\", '')\n",
    "  name = name.replace(\" the\", '')\n",
    "  name = re.sub(\"\\\\[a-z]*\", '', name)\n",
    "  return name\n",
    "\n",
    "\n",
    "def similar(a, b):\n",
    "  a = clean_name(a)\n",
    "  b = clean_name(b)\n",
    "  cond0 = sim(a, b) > 0.90\n",
    "  cond1 = a + \" \" in b or b in a\n",
    "  cond2 = sim(a.split()[0], b.split()[0]) > 0.9\n",
    "  cond3 = a.lower().startswith(b.split()[0])\n",
    "  cond4 = b.lower().startswith(a.lower().split()[0])\n",
    "  return cond0 or (cond0 and cond1) or cond2 or cond3 or cond4"
   ]
  },
  {
   "cell_type": "code",
   "execution_count": 9,
   "metadata": {},
   "outputs": [
    {
     "name": "stdout",
     "output_type": "stream",
     "text": [
      "282\n",
      "81\n"
     ]
    }
   ],
   "source": [
    "leads = leads_raw['Company Name']\n",
    "print(len(leads))\n",
    "new_leads = [leads[0]]\n",
    "for lead in leads:\n",
    "  flag = False\n",
    "  for l in new_leads:\n",
    "    if similar(lead, l):\n",
    "      flag = True\n",
    "      break\n",
    "  if not flag:\n",
    "    new_leads.append(lead)\n",
    "new_leads.append('RBC Capital Markets')\n",
    "new_leads.append('State Farm Mutual Automobile Insurance Company')\n",
    "new_leads.append('Tennessee Department of Health')\n",
    "new_leads.append('Tennessee Department of Transportation')\n",
    "print(len(new_leads))"
   ]
  },
  {
   "cell_type": "code",
   "execution_count": 10,
   "metadata": {},
   "outputs": [
    {
     "name": "stdout",
     "output_type": "stream",
     "text": [
      "81 81 81 81 81 81 81 81 81\n"
     ]
    }
   ],
   "source": [
    "ad_ban = []\n",
    "ad_ban_impress = []\n",
    "ad_ban_clicks = []\n",
    "\n",
    "ad_nat = []\n",
    "ad_nat_impress = []\n",
    "ad_nat_clicks = []\n",
    "\n",
    "c_white = []\n",
    "c_target = []\n",
    "for lead in new_leads:\n",
    "  flag = False\n",
    "  for comp in list(ad_ban_map.keys()):\n",
    "    if similar(lead, comp):\n",
    "      if not flag:\n",
    "        ad_ban.append(True)\n",
    "        ad_ban_impress.append(int(ad_ban_map[comp]['Impressions']))\n",
    "        ad_ban_clicks.append(int(ad_ban_map[comp]['Clicks']))\n",
    "        flag = True\n",
    "      else:\n",
    "        ad_ban_impress[-1] += int(ad_ban_map[comp]['Impressions'])\n",
    "        ad_ban_clicks[-1] += int(ad_ban_map[comp]['Clicks'])\n",
    "  if not flag:\n",
    "    ad_ban.append(False)\n",
    "    ad_ban_impress.append(0)\n",
    "    ad_ban_clicks.append(0)\n",
    "  flag = False\n",
    "  for comp in list(ad_nat_map.keys()):\n",
    "    if similar(lead, comp):\n",
    "      if not flag:\n",
    "        ad_nat.append(True)\n",
    "        ad_nat_impress.append(int(ad_nat_map[comp]['Impressions']))\n",
    "        ad_nat_clicks.append(int(ad_nat_map[comp]['Clicks']))\n",
    "        flag = True\n",
    "      else:\n",
    "        ad_nat_impress[-1] += int(ad_nat_map[comp]['Impressions'])\n",
    "        ad_nat_clicks[-1] += int(ad_nat_map[comp]['Clicks'])\n",
    "  if not flag:\n",
    "    ad_nat.append(False)\n",
    "    ad_nat_impress.append(0)\n",
    "    ad_nat_clicks.append(0)\n",
    "  flag = False\n",
    "  for comp in list(target['Company Name']):\n",
    "    if similar(lead, comp):\n",
    "      c_target.append(True)\n",
    "      flag = True\n",
    "      break\n",
    "  if not flag:\n",
    "    c_target.append(False)  \n",
    "  flag = False\n",
    "  for comp in list(white_space['Parent Account Name']):\n",
    "    if similar(lead, comp):\n",
    "      c_white.append(True)\n",
    "      flag = True\n",
    "      break\n",
    "  if not flag:\n",
    "    c_white.append(False)  \n",
    "\n",
    "print(len(new_leads), len(ad_ban), len(ad_ban_impress), len(ad_ban_clicks), len(ad_nat), len(ad_nat_impress), len(ad_nat_clicks), len(c_target), len(c_white))\n",
    "    \n"
   ]
  },
  {
   "cell_type": "code",
   "execution_count": 11,
   "metadata": {},
   "outputs": [],
   "source": [
    "df = pd.DataFrame({\n",
    "  'All Leads': new_leads,\n",
    "  'AdDaptive Banners': ad_ban,\n",
    "  'AdDaptive Banners Impressions': ad_ban_impress,\n",
    "  'AdDaptive Banners Clicks': ad_ban_clicks,\n",
    "  'AdDaptive Native': ad_nat,\n",
    "  'AdDaptive Native Impressions': ad_nat_impress,\n",
    "  'AdDaptive Native Clicks': ad_nat_clicks\n",
    "})\n",
    "df.to_csv(path_or_buf='./AdDaptive_Results.csv', index=False)"
   ]
  },
  {
   "cell_type": "code",
   "execution_count": 12,
   "metadata": {},
   "outputs": [],
   "source": [
    "df2 = pd.DataFrame({\n",
    "  'All Leads': new_leads,\n",
    "  'AdDaptive Banners': ad_ban,\n",
    "  'AdDaptive Native': ad_nat,\n",
    "  'White Space': c_white,\n",
    "  'Target List': c_target\n",
    "})\n",
    "df2.to_csv(path_or_buf='./Leads_Matching.csv', index=False)"
   ]
  },
  {
   "cell_type": "code",
   "execution_count": 13,
   "metadata": {},
   "outputs": [
    {
     "name": "stdout",
     "output_type": "stream",
     "text": [
      "Total # of Companies in Target List: 114\n",
      "# of Companies with Impressions: 103\n",
      "# of Companies with Clicks: 50\n"
     ]
    }
   ],
   "source": [
    "c_impress = []\n",
    "c_clicks = []\n",
    "for c in list(target['Company Name']):\n",
    "  flag = False\n",
    "  for comp in list(ad_ban_map.keys()):\n",
    "    if similar(c, comp):\n",
    "      c_impress.append(c)\n",
    "      if ad_ban_map[comp]['Clicks'] != 0:\n",
    "        c_clicks.append(c)\n",
    "      flag = True\n",
    "      break\n",
    "  if flag:\n",
    "    continue\n",
    "  for comp in list(ad_nat_map.keys()):\n",
    "    if similar(c, comp):\n",
    "      c_impress.append(c)\n",
    "      if ad_ban_map[comp]['Clicks'] != 0:\n",
    "        c_clicks.append(c)\n",
    "      break\n",
    "\n",
    "print('Total # of Companies in Target List: {}\\n# of Companies with Impressions: {}\\n# of Companies with Clicks: {}'.format(len(list(target['Company Name'])), len(c_impress), len(c_clicks)))"
   ]
  },
  {
   "cell_type": "code",
   "execution_count": null,
   "metadata": {},
   "outputs": [],
   "source": []
  }
 ],
 "metadata": {
  "kernelspec": {
   "display_name": "Python 3",
   "language": "python",
   "name": "python3"
  },
  "language_info": {
   "codemirror_mode": {
    "name": "ipython",
    "version": 3
   },
   "file_extension": ".py",
   "mimetype": "text/x-python",
   "name": "python",
   "nbconvert_exporter": "python",
   "pygments_lexer": "ipython3",
   "version": "3.9.7"
  },
  "orig_nbformat": 4,
  "vscode": {
   "interpreter": {
    "hash": "7812ea015bdcee6f23a998adcdd2ef97c151c0c241b7b7070987d9313e41299d"
   }
  }
 },
 "nbformat": 4,
 "nbformat_minor": 2
}
