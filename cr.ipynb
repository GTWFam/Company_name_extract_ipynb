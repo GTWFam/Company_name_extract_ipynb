{
  "cells": [
    {
      "cell_type": "markdown",
      "metadata": {
        "id": "view-in-github",
        "colab_type": "text"
      },
      "source": [
        "<a href=\"https://colab.research.google.com/github/GTWFam/Company_name_extract_ipynb/blob/master/cr.ipynb\" target=\"_parent\"><img src=\"https://colab.research.google.com/assets/colab-badge.svg\" alt=\"Open In Colab\"/></a>"
      ]
    },
    {
      "cell_type": "code",
      "execution_count": 1,
      "metadata": {
        "id": "ouMWuiNrhUfL"
      },
      "outputs": [],
      "source": [
        "from difflib import SequenceMatcher\n",
        "import pandas as pd\n",
        "import numpy as np\n",
        "import json\n",
        "import string\n",
        "import re\n",
        "\n",
        "from openpyxl import load_workbook"
      ]
    },
    {
      "cell_type": "code",
      "execution_count": 2,
      "metadata": {
        "id": "soN0eWfzhUfL"
      },
      "outputs": [],
      "source": [
        "leadFeeder = pd.read_excel('/content/Leadlander.xlsx')\n",
        "adDaptive = pd.read_excel('/content/AdDaptive.xlsx')\n",
        "\n",
        "wb_target = load_workbook(filename='/content/Target Account List.xlsx')\n",
        "target_lvl1 = pd.read_excel(\n",
        "    '/content/Target Account List.xlsx', sheet_name=wb_target.sheetnames[0])\n",
        "target_lvl2 = pd.read_excel(\n",
        "    '/content/Target Account List.xlsx', sheet_name=wb_target.sheetnames[1])\n",
        "target_lvl3 = pd.read_excel(\n",
        "    '/content/Target Account List.xlsx', sheet_name=wb_target.sheetnames[2])\n",
        "\n",
        "target_lvl1_companies = target_lvl1[\"Level 1\"].to_numpy()\n",
        "target_lvl2_companies = target_lvl2[\"Level 2\"].to_numpy()\n",
        "target_lvl3_companies = target_lvl3[\"Level 3\"].to_numpy()\n",
        "all_companies = np.concatenate([target_lvl1_companies, target_lvl2_companies, target_lvl3_companies])\n",
        "\n",
        "adDaptive.columns = adDaptive.iloc[6]\n",
        "adDaptive = adDaptive.iloc[7:, :]\n",
        "adDaptive.reset_index(drop=True, inplace=True)\n",
        "\n",
        "ad_companies = adDaptive[[\"Business Name\", \"Impressions\"]].to_numpy()\n",
        "lf_companies = leadFeeder[[\"Company\", \"Visit_PageViews\"]].to_numpy()"
      ]
    },
    {
      "cell_type": "code",
      "execution_count": 3,
      "metadata": {
        "id": "u1B_bb49hUfN"
      },
      "outputs": [],
      "source": [
        "def similar(a, b):\n",
        "    return SequenceMatcher(None, a, b).ratio()\n",
        "\n",
        "\n",
        "def clean_name(name):\n",
        "    name = str(name)\n",
        "    name = name.lower()\n",
        "    name = name.translate(\n",
        "        str.maketrans('', '', string.punctuation.replace(\"&\", '')))\n",
        "    name = name.strip()\n",
        "    name = name.replace(\"  \", ' ')\n",
        "    name = name.replace(' inc', '')\n",
        "    name = name.replace(\" llc\", '')\n",
        "    name = name.replace(\" the\", '')\n",
        "    name = re.sub(\"\\\\[a-z]*\", '', name)\n",
        "    return name"
      ]
    },
    {
      "cell_type": "code",
      "execution_count": 4,
      "metadata": {
        "id": "qX1cIBowhUfO"
      },
      "outputs": [],
      "source": [
        "def compute_cross_helper(comp_list, target, cross, key, list_type):\n",
        "    remain = []\n",
        "    for comp_arr in comp_list:\n",
        "        comp = comp_arr[0]\n",
        "        comp = str(comp)\n",
        "        comp_name = clean_name(comp)\n",
        "        sim = similar(target, comp_name)\n",
        "        cond1 = similar(comp.lower().split()[0], target.split()[0]) > 0.9\n",
        "        cond2 = comp.lower().startswith(target.split()[0]) or cond1\n",
        "        if (sim > 0.85 and cond2):\n",
        "            cross[key][list_type] += [{comp:comp_arr[1]}]\n",
        "        else:\n",
        "            remain.append(comp_arr)\n",
        "    return cross, remain\n",
        "\n",
        "\n",
        "def cross_helper_detail(comp_list, target, cross, key, list_type):\n",
        "    remain = []\n",
        "    for comp_arr in comp_list:\n",
        "        comp = comp_arr[0]\n",
        "        comp = str(comp)\n",
        "        comp_name = clean_name(comp)\n",
        "        sim = similar(target, comp_name)\n",
        "        cond1 = target + \" \" in comp_name or comp_name in target\n",
        "        cond2 = similar(comp.lower().split()[0], target.split()[0]) > 0.9\n",
        "        cond3 = comp.lower().startswith(target.split()[0]) or cond2\n",
        "        if sim > 0.4 and cond1 and cond3 and comp_name.startswith(target):\n",
        "            cross[key][list_type] += [{comp:comp_arr[1]}]\n",
        "        else:\n",
        "            remain.append(comp_arr)\n",
        "    return cross, remain"
      ]
    },
    {
      "cell_type": "code",
      "execution_count": 5,
      "metadata": {
        "id": "d7hR0UulhUfP"
      },
      "outputs": [],
      "source": [
        "def compute_cross(target, adDaptive, leadFeeder, name):\n",
        "    cross_list = {}\n",
        "    [cross_list.setdefault(x, {\"adDaptive\": [], \"LeadFeeder\": []})\n",
        "     for x in target]\n",
        "\n",
        "    for comp in target:\n",
        "        comp_name = clean_name(comp)\n",
        "        cross_list, adDaptive = compute_cross_helper(\n",
        "            adDaptive, comp_name, cross_list, comp, \"adDaptive\")\n",
        "        cross_list, leadFeeder = compute_cross_helper(\n",
        "            leadFeeder, comp_name, cross_list, comp, \"LeadFeeder\")\n",
        "\n",
        "    for comp in target:\n",
        "        comp_name = clean_name(comp)\n",
        "        cross_list, adDaptive = cross_helper_detail(\n",
        "            adDaptive, comp_name, cross_list, comp, \"adDaptive\")\n",
        "        cross_list, leadFeeder = cross_helper_detail(\n",
        "            leadFeeder, comp_name, cross_list, comp, \"LeadFeeder\")\n",
        "\n",
        "    result_list = {}\n",
        "    [result_list.setdefault(x, {\"impressions\": [], \"page_views\": []})\n",
        "     for x in cross_list.keys()]\n",
        "    \n",
        "    for key, value in cross_list.items():\n",
        "        result_list[key][\"impressions\"] = sum(x for vx in value[\"adDaptive\"] for _, x in vx.items())\n",
        "        result_list[key][\"page_views\"] = sum(x for vx in value[\"LeadFeeder\"] for _, x in vx.items())\n",
        "\n",
        "    # cross_list[\"remain\"] = {\n",
        "    #     \"adDaptive\": adDaptive, \"LeadFeeder\": leadFeeder}\n",
        "    with open('./' + name + '.json', 'w') as f:\n",
        "        json.dump(cross_list, f, indent=4)\n",
        "\n",
        "    with open('./' + name + \"_results\" + '.json', 'w') as f:\n",
        "        json.dump(result_list, f, indent=4)"
      ]
    },
    {
      "cell_type": "code",
      "execution_count": null,
      "metadata": {
        "id": "MOgGgat4hUfQ"
      },
      "outputs": [],
      "source": [
        "# compute_cross(target_lvl1_companies, ad_companies, lf_companies, \"lvl1\")"
      ]
    },
    {
      "cell_type": "code",
      "execution_count": null,
      "metadata": {
        "id": "38g4PamjhUfR"
      },
      "outputs": [],
      "source": [
        "# compute_cross(target_lvl2_companies, ad_companies, lf_companies, \"lvl2\")"
      ]
    },
    {
      "cell_type": "code",
      "execution_count": null,
      "metadata": {
        "id": "yB3F22zzhUfR"
      },
      "outputs": [],
      "source": [
        "# compute_cross(target_lvl3_companies, ad_companies, lf_companies, \"lvl3\")"
      ]
    },
    {
      "cell_type": "code",
      "execution_count": 6,
      "metadata": {
        "id": "mOsy3FZOhUfS",
        "outputId": "ae327a70-46ac-4544-8855-2e5d3e25e19e",
        "colab": {
          "base_uri": "https://localhost:8080/",
          "height": 323
        }
      },
      "outputs": [
        {
          "output_type": "error",
          "ename": "KeyboardInterrupt",
          "evalue": "ignored",
          "traceback": [
            "\u001b[0;31m---------------------------------------------------------------------------\u001b[0m",
            "\u001b[0;31mKeyboardInterrupt\u001b[0m                         Traceback (most recent call last)",
            "\u001b[0;32m<ipython-input-6-8600f4b5649a>\u001b[0m in \u001b[0;36m<module>\u001b[0;34m\u001b[0m\n\u001b[0;32m----> 1\u001b[0;31m \u001b[0mcompute_cross\u001b[0m\u001b[0;34m(\u001b[0m\u001b[0mall_companies\u001b[0m\u001b[0;34m,\u001b[0m \u001b[0mad_companies\u001b[0m\u001b[0;34m,\u001b[0m \u001b[0mlf_companies\u001b[0m\u001b[0;34m,\u001b[0m \u001b[0;34m\"all\"\u001b[0m\u001b[0;34m)\u001b[0m\u001b[0;34m\u001b[0m\u001b[0;34m\u001b[0m\u001b[0m\n\u001b[0m",
            "\u001b[0;32m<ipython-input-5-7b2bda5669fd>\u001b[0m in \u001b[0;36mcompute_cross\u001b[0;34m(target, adDaptive, leadFeeder, name)\u001b[0m\n\u001b[1;32m      7\u001b[0m         \u001b[0mcomp_name\u001b[0m \u001b[0;34m=\u001b[0m \u001b[0mclean_name\u001b[0m\u001b[0;34m(\u001b[0m\u001b[0mcomp\u001b[0m\u001b[0;34m)\u001b[0m\u001b[0;34m\u001b[0m\u001b[0;34m\u001b[0m\u001b[0m\n\u001b[1;32m      8\u001b[0m         cross_list, adDaptive = compute_cross_helper(\n\u001b[0;32m----> 9\u001b[0;31m             adDaptive, comp_name, cross_list, comp, \"adDaptive\")\n\u001b[0m\u001b[1;32m     10\u001b[0m         cross_list, leadFeeder = compute_cross_helper(\n\u001b[1;32m     11\u001b[0m             leadFeeder, comp_name, cross_list, comp, \"LeadFeeder\")\n",
            "\u001b[0;32m<ipython-input-4-42f26f18263e>\u001b[0m in \u001b[0;36mcompute_cross_helper\u001b[0;34m(comp_list, target, cross, key, list_type)\u001b[0m\n\u001b[1;32m      6\u001b[0m         \u001b[0mcomp_name\u001b[0m \u001b[0;34m=\u001b[0m \u001b[0mclean_name\u001b[0m\u001b[0;34m(\u001b[0m\u001b[0mcomp\u001b[0m\u001b[0;34m)\u001b[0m\u001b[0;34m\u001b[0m\u001b[0;34m\u001b[0m\u001b[0m\n\u001b[1;32m      7\u001b[0m         \u001b[0msim\u001b[0m \u001b[0;34m=\u001b[0m \u001b[0msimilar\u001b[0m\u001b[0;34m(\u001b[0m\u001b[0mtarget\u001b[0m\u001b[0;34m,\u001b[0m \u001b[0mcomp_name\u001b[0m\u001b[0;34m)\u001b[0m\u001b[0;34m\u001b[0m\u001b[0;34m\u001b[0m\u001b[0m\n\u001b[0;32m----> 8\u001b[0;31m         \u001b[0mcond1\u001b[0m \u001b[0;34m=\u001b[0m \u001b[0msimilar\u001b[0m\u001b[0;34m(\u001b[0m\u001b[0mcomp\u001b[0m\u001b[0;34m.\u001b[0m\u001b[0mlower\u001b[0m\u001b[0;34m(\u001b[0m\u001b[0;34m)\u001b[0m\u001b[0;34m.\u001b[0m\u001b[0msplit\u001b[0m\u001b[0;34m(\u001b[0m\u001b[0;34m)\u001b[0m\u001b[0;34m[\u001b[0m\u001b[0;36m0\u001b[0m\u001b[0;34m]\u001b[0m\u001b[0;34m,\u001b[0m \u001b[0mtarget\u001b[0m\u001b[0;34m.\u001b[0m\u001b[0msplit\u001b[0m\u001b[0;34m(\u001b[0m\u001b[0;34m)\u001b[0m\u001b[0;34m[\u001b[0m\u001b[0;36m0\u001b[0m\u001b[0;34m]\u001b[0m\u001b[0;34m)\u001b[0m \u001b[0;34m>\u001b[0m \u001b[0;36m0.9\u001b[0m\u001b[0;34m\u001b[0m\u001b[0;34m\u001b[0m\u001b[0m\n\u001b[0m\u001b[1;32m      9\u001b[0m         \u001b[0mcond2\u001b[0m \u001b[0;34m=\u001b[0m \u001b[0mcomp\u001b[0m\u001b[0;34m.\u001b[0m\u001b[0mlower\u001b[0m\u001b[0;34m(\u001b[0m\u001b[0;34m)\u001b[0m\u001b[0;34m.\u001b[0m\u001b[0mstartswith\u001b[0m\u001b[0;34m(\u001b[0m\u001b[0mtarget\u001b[0m\u001b[0;34m.\u001b[0m\u001b[0msplit\u001b[0m\u001b[0;34m(\u001b[0m\u001b[0;34m)\u001b[0m\u001b[0;34m[\u001b[0m\u001b[0;36m0\u001b[0m\u001b[0;34m]\u001b[0m\u001b[0;34m)\u001b[0m \u001b[0;32mor\u001b[0m \u001b[0mcond1\u001b[0m\u001b[0;34m\u001b[0m\u001b[0;34m\u001b[0m\u001b[0m\n\u001b[1;32m     10\u001b[0m         \u001b[0;32mif\u001b[0m \u001b[0;34m(\u001b[0m\u001b[0msim\u001b[0m \u001b[0;34m>\u001b[0m \u001b[0;36m0.85\u001b[0m \u001b[0;32mand\u001b[0m \u001b[0mcond2\u001b[0m\u001b[0;34m)\u001b[0m\u001b[0;34m:\u001b[0m\u001b[0;34m\u001b[0m\u001b[0;34m\u001b[0m\u001b[0m\n",
            "\u001b[0;31mKeyboardInterrupt\u001b[0m: "
          ]
        }
      ],
      "source": [
        "compute_cross(all_companies, ad_companies, lf_companies, \"all\")"
      ]
    },
    {
      "cell_type": "code",
      "execution_count": null,
      "metadata": {
        "id": "ZpqbdooGhUfT",
        "outputId": "ac68d393-48bb-4fe5-f5a9-a90c6f782946"
      },
      "outputs": [
        {
          "name": "stdout",
          "output_type": "stream",
          "text": [
            "0.2222222222222222\n",
            "actuarial studentsâ€‹ society at macquarie university\n"
          ]
        }
      ],
      "source": [
        "a = \"CNO Financial Group\"\n",
        "b = \"Actuarial Students'\\u00e2\\u20ac\\u2039 Society at Macquarie University\"\n",
        "\n",
        "print(similar(clean_name(a), clean_name(b)))\n",
        "print(clean_name(b))"
      ]
    },
    {
      "cell_type": "code",
      "execution_count": null,
      "metadata": {
        "id": "kv7fWifzhUfU",
        "outputId": "407dde02-bf6b-4395-f162-ac7f77eb0814"
      },
      "outputs": [
        {
          "name": "stdout",
          "output_type": "stream",
          "text": [
            "False\n",
            "0.16666666666666666\n"
          ]
        }
      ],
      "source": [
        "print(b.lower().startswith(a.split()[0]) or similar(b.lower().split()[0], a.lower().split()[0]) > 0.85)\n",
        "print(similar(b.lower().split()[0], a.lower().split()[0]))"
      ]
    }
  ],
  "metadata": {
    "kernelspec": {
      "display_name": "Python 3.9.7 64-bit",
      "language": "python",
      "name": "python3"
    },
    "language_info": {
      "codemirror_mode": {
        "name": "ipython",
        "version": 3
      },
      "file_extension": ".py",
      "mimetype": "text/x-python",
      "name": "python",
      "nbconvert_exporter": "python",
      "pygments_lexer": "ipython3",
      "version": "3.9.7"
    },
    "orig_nbformat": 4,
    "vscode": {
      "interpreter": {
        "hash": "7812ea015bdcee6f23a998adcdd2ef97c151c0c241b7b7070987d9313e41299d"
      }
    },
    "colab": {
      "provenance": [],
      "include_colab_link": true
    }
  },
  "nbformat": 4,
  "nbformat_minor": 0
}