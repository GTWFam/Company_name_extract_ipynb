{
 "cells": [
  {
   "cell_type": "code",
   "execution_count": 39,
   "metadata": {},
   "outputs": [],
   "source": [
    "from difflib import SequenceMatcher\n",
    "import pandas as pd\n",
    "import numpy as np\n",
    "import json\n",
    "import string\n",
    "import re\n",
    "\n",
    "from openpyxl import load_workbook"
   ]
  },
  {
   "cell_type": "code",
   "execution_count": 40,
   "metadata": {},
   "outputs": [],
   "source": [
    "leadFeeder = pd.read_excel('./sheets/May Leadlander Data.xlsx')\n",
    "wb = load_workbook(filename='./sheets/dtex-2022-06-03-10-08-29[4].xlsx')\n",
    "adDaptive = pd.read_excel(\n",
    "    './sheets/dtex-2022-06-03-10-08-29[4].xlsx', sheet_name=wb.sheetnames[1])\n",
    "\n",
    "wb_target = load_workbook(filename='sheets/Target Account List (3).xlsx')\n",
    "target_lvl1 = pd.read_excel(\n",
    "    './sheets/Target Account List (3).xlsx', sheet_name=wb_target.sheetnames[0])\n",
    "target_lvl2 = pd.read_excel(\n",
    "    './sheets/Target Account List (3).xlsx', sheet_name=wb_target.sheetnames[1])\n",
    "target_lvl3 = pd.read_excel(\n",
    "    './sheets/Target Account List (3).xlsx', sheet_name=wb_target.sheetnames[2])\n",
    "\n",
    "target_lvl1_companies = target_lvl1[\"Level 1\"].to_numpy()\n",
    "target_lvl2_companies = target_lvl2[\"Level 2\"].to_numpy()\n",
    "target_lvl3_companies = target_lvl3[\"Level 3\"].to_numpy()\n",
    "all_companies = np.concatenate([target_lvl1_companies, target_lvl2_companies, target_lvl3_companies])\n",
    "\n",
    "adDaptive.columns = adDaptive.iloc[6]\n",
    "adDaptive = adDaptive.iloc[7:, :]\n",
    "adDaptive.reset_index(drop=True, inplace=True)\n",
    "\n",
    "ad_companies = adDaptive[[\"Business Name\", \"Impressions\"]].to_numpy()\n",
    "lf_companies = leadFeeder[[\"Company\", \"Visit_PageViews\"]].to_numpy()"
   ]
  },
  {
   "cell_type": "code",
   "execution_count": 41,
   "metadata": {},
   "outputs": [],
   "source": [
    "def similar(a, b):\n",
    "    return SequenceMatcher(None, a, b).ratio()\n",
    "\n",
    "\n",
    "def clean_name(name):\n",
    "    name = name.lower()\n",
    "    name = name.translate(\n",
    "        str.maketrans('', '', string.punctuation.replace(\"&\", '')))\n",
    "    name = name.strip()\n",
    "    name = name.replace(\"  \", ' ')\n",
    "    name = name.replace(' inc', '')\n",
    "    name = name.replace(\" llc\", '')\n",
    "    name = name.replace(\" the\", '')\n",
    "    name = re.sub(\"\\\\[a-z]*\", '', name)\n",
    "    return name"
   ]
  },
  {
   "cell_type": "code",
   "execution_count": 42,
   "metadata": {},
   "outputs": [],
   "source": [
    "def compute_cross_helper(comp_list, target, cross, key, list_type):\n",
    "    remain = []\n",
    "    for comp_arr in comp_list:\n",
    "        comp = comp_arr[0]\n",
    "        comp_name = clean_name(comp)\n",
    "        sim = similar(target, comp_name)\n",
    "        cond1 = similar(comp.lower().split()[0], target.split()[0]) > 0.9\n",
    "        cond2 = comp.lower().startswith(target.split()[0]) or cond1\n",
    "        if (sim > 0.85 and cond2):\n",
    "            cross[key][list_type] += [{comp:comp_arr[1]}]\n",
    "        else:\n",
    "            remain.append(comp_arr)\n",
    "    return cross, remain\n",
    "\n",
    "\n",
    "def cross_helper_detail(comp_list, target, cross, key, list_type):\n",
    "    remain = []\n",
    "    for comp_arr in comp_list:\n",
    "        comp = comp_arr[0]\n",
    "        comp_name = clean_name(comp)\n",
    "        sim = similar(target, comp_name)\n",
    "        cond1 = target + \" \" in comp_name or comp_name in target\n",
    "        cond2 = similar(comp.lower().split()[0], target.split()[0]) > 0.9\n",
    "        cond3 = comp.lower().startswith(target.split()[0]) or cond2\n",
    "        if sim > 0.4 and cond1 and cond3 and comp_name.startswith(target):\n",
    "            cross[key][list_type] += [{comp:comp_arr[1]}]\n",
    "        else:\n",
    "            remain.append(comp_arr)\n",
    "    return cross, remain"
   ]
  },
  {
   "cell_type": "code",
   "execution_count": 43,
   "metadata": {},
   "outputs": [],
   "source": [
    "def compute_cross(target, adDaptive, leadFeeder, name):\n",
    "    cross_list = {}\n",
    "    [cross_list.setdefault(x, {\"adDaptive\": [], \"LeadFeeder\": []})\n",
    "     for x in target]\n",
    "\n",
    "    for comp in target:\n",
    "        comp_name = clean_name(comp)\n",
    "        cross_list, adDaptive = compute_cross_helper(\n",
    "            adDaptive, comp_name, cross_list, comp, \"adDaptive\")\n",
    "        cross_list, leadFeeder = compute_cross_helper(\n",
    "            leadFeeder, comp_name, cross_list, comp, \"LeadFeeder\")\n",
    "\n",
    "    for comp in target:\n",
    "        comp_name = clean_name(comp)\n",
    "        cross_list, adDaptive = cross_helper_detail(\n",
    "            adDaptive, comp_name, cross_list, comp, \"adDaptive\")\n",
    "        cross_list, leadFeeder = cross_helper_detail(\n",
    "            leadFeeder, comp_name, cross_list, comp, \"LeadFeeder\")\n",
    "\n",
    "    result_list = {}\n",
    "    [result_list.setdefault(x, {\"impressions\": [], \"page_views\": []})\n",
    "     for x in cross_list.keys()]\n",
    "    \n",
    "    for key, value in cross_list.items():\n",
    "        result_list[key][\"impressions\"] = sum(x for vx in value[\"adDaptive\"] for _, x in vx.items())\n",
    "        result_list[key][\"page_views\"] = sum(x for vx in value[\"LeadFeeder\"] for _, x in vx.items())\n",
    "\n",
    "    # cross_list[\"remain\"] = {\n",
    "    #     \"adDaptive\": adDaptive, \"LeadFeeder\": leadFeeder}\n",
    "    with open('./' + name + '.json', 'w') as f:\n",
    "        json.dump(cross_list, f, indent=4)\n",
    "\n",
    "    with open('./' + name + \"_results\" + '.json', 'w') as f:\n",
    "        json.dump(result_list, f, indent=4)"
   ]
  },
  {
   "cell_type": "code",
   "execution_count": 44,
   "metadata": {},
   "outputs": [],
   "source": [
    "# compute_cross(target_lvl1_companies, ad_companies, lf_companies, \"lvl1\")"
   ]
  },
  {
   "cell_type": "code",
   "execution_count": 45,
   "metadata": {},
   "outputs": [],
   "source": [
    "# compute_cross(target_lvl2_companies, ad_companies, lf_companies, \"lvl2\")"
   ]
  },
  {
   "cell_type": "code",
   "execution_count": 46,
   "metadata": {},
   "outputs": [],
   "source": [
    "# compute_cross(target_lvl3_companies, ad_companies, lf_companies, \"lvl3\")"
   ]
  },
  {
   "cell_type": "code",
   "execution_count": 47,
   "metadata": {},
   "outputs": [],
   "source": [
    "compute_cross(all_companies, ad_companies, lf_companies, \"all\")"
   ]
  },
  {
   "cell_type": "code",
   "execution_count": 48,
   "metadata": {},
   "outputs": [
    {
     "name": "stdout",
     "output_type": "stream",
     "text": [
      "0.2222222222222222\n",
      "actuarial studentsâ€‹ society at macquarie university\n"
     ]
    }
   ],
   "source": [
    "a = \"CNO Financial Group\"\n",
    "b = \"Actuarial Students'\\u00e2\\u20ac\\u2039 Society at Macquarie University\"\n",
    "\n",
    "print(similar(clean_name(a), clean_name(b)))\n",
    "print(clean_name(b))"
   ]
  },
  {
   "cell_type": "code",
   "execution_count": 49,
   "metadata": {},
   "outputs": [
    {
     "name": "stdout",
     "output_type": "stream",
     "text": [
      "False\n",
      "0.16666666666666666\n"
     ]
    }
   ],
   "source": [
    "print(b.lower().startswith(a.split()[0]) or similar(b.lower().split()[0], a.lower().split()[0]) > 0.85)\n",
    "print(similar(b.lower().split()[0], a.lower().split()[0]))"
   ]
  }
 ],
 "metadata": {
  "kernelspec": {
   "display_name": "Python 3.9.7 64-bit",
   "language": "python",
   "name": "python3"
  },
  "language_info": {
   "codemirror_mode": {
    "name": "ipython",
    "version": 3
   },
   "file_extension": ".py",
   "mimetype": "text/x-python",
   "name": "python",
   "nbconvert_exporter": "python",
   "pygments_lexer": "ipython3",
   "version": "3.9.7"
  },
  "orig_nbformat": 4,
  "vscode": {
   "interpreter": {
    "hash": "7812ea015bdcee6f23a998adcdd2ef97c151c0c241b7b7070987d9313e41299d"
   }
  }
 },
 "nbformat": 4,
 "nbformat_minor": 2
}
