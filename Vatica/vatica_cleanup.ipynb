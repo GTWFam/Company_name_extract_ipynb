{
 "cells": [
  {
   "cell_type": "code",
   "execution_count": 30,
   "metadata": {},
   "outputs": [],
   "source": [
    "from difflib import SequenceMatcher\n",
    "import pandas as pd\n",
    "import numpy as np\n",
    "import json\n",
    "import string\n",
    "import re\n",
    "\n",
    "from openpyxl import load_workbook"
   ]
  },
  {
   "cell_type": "code",
   "execution_count": 31,
   "metadata": {},
   "outputs": [],
   "source": [
    "def similar(a, b):\n",
    "    return SequenceMatcher(None, a, b).ratio()\n",
    "\n",
    "\n",
    "def clean_name(name):\n",
    "    if 'NY-NEW YORK-' in name:\n",
    "        name = name.split('NY-NEW YORK-')[1]    \n",
    "    elif name.count('-') == 2:\n",
    "        name = name.split('-')[1]\n",
    "    elif name.count('-') == 1:\n",
    "        if len(name.split('-')[0]) == 2:\n",
    "            name = name.split('-')[1]\n",
    "        elif any(map(str.isdigit, name.split('-')[1])):\n",
    "            name = name.split('-')[0]\n",
    "    name = name.lower()\n",
    "    name = name.translate(\n",
    "        str.maketrans('', '', string.punctuation.replace(\"&\", '')))\n",
    "    name = name.replace('inc', '')\n",
    "    name = name.replace(\"llc\", '')\n",
    "    name = name.replace(\"the\", '')\n",
    "    name = name.replace(\"  \", ' ')\n",
    "    name = name.replace(\"  \", ' ')\n",
    "    name = name.strip()\n",
    "    name = re.sub(\"\\\\[a-z]*\", '', name)\n",
    "    return name"
   ]
  },
  {
   "cell_type": "markdown",
   "metadata": {},
   "source": [
    "Loading Worksheets"
   ]
  },
  {
   "cell_type": "code",
   "execution_count": 32,
   "metadata": {},
   "outputs": [
    {
     "name": "stdout",
     "output_type": "stream",
     "text": [
      "111105\n",
      "1575\n"
     ]
    }
   ],
   "source": [
    "# wb = load_workbook(filename='./sheets/October Adfire Data.xlsx')\n",
    "# wb_1 = load_workbook(filename='./sheets/Target_Contacts.xlsx')\n",
    "ad_fire_raw = pd.read_excel(\n",
    "    './sheets/Vatica_22_2022_11_27_weekly_111105.xlsx')\n",
    "target_raw = pd.read_excel(\n",
    "    './sheets/Vatica Target Account List.xlsx')\n",
    "\n",
    "print(ad_fire_raw.shape[0])\n",
    "print(target_raw.shape[0])"
   ]
  },
  {
   "cell_type": "code",
   "execution_count": 33,
   "metadata": {},
   "outputs": [
    {
     "name": "stdout",
     "output_type": "stream",
     "text": [
      "Index(['NPI', 'First Name', 'Last Name', 'City', 'State', 'Zip', 'Title',\n",
      "       'Specialty', 'Hospital_Name', 'EventType', 'logentrytime',\n",
      "       'Partner_Name', 'Ad_Group_Name', 'Campaign_Name', 'Creative_Name',\n",
      "       'adformat', 'browser', 'frequency', 'supplyvendor', 'foldposition',\n",
      "       'ipaddress', 'referrer_url', 'redirect_url', 'devicetype', 'os',\n",
      "       'osfamily', 'recency', 'site', 'referrercategorieslist', 'devicemake',\n",
      "       'renderingcontext', 'temperaturebucketstartincelsiusname',\n",
      "       'temperaturebucketendincelsiusname', 'userhourofweek', 'Device_ID',\n",
      "       'Report_id', 'Full_Name'],\n",
      "      dtype='object')\n",
      "['Impression' 'Click']\n",
      "Index(['NPI', 'Full_Name', 'Hospital_Name', 'EventType'], dtype='object')\n",
      "111105\n"
     ]
    }
   ],
   "source": [
    "ad_fire_raw['Full_Name'] = ad_fire_raw[\"First Name\"].str.cat(ad_fire_raw[\"Last Name\"], sep = \" \")\n",
    "print(ad_fire_raw.columns)\n",
    "print(ad_fire_raw['EventType'].unique())\n",
    "ad_fire = ad_fire_raw[['NPI', 'Full_Name', 'Hospital_Name', 'EventType']]\n",
    "print(ad_fire.columns)\n",
    "print(ad_fire.shape[0])"
   ]
  },
  {
   "cell_type": "code",
   "execution_count": 34,
   "metadata": {},
   "outputs": [
    {
     "data": {
      "text/html": [
       "<div>\n",
       "<style scoped>\n",
       "    .dataframe tbody tr th:only-of-type {\n",
       "        vertical-align: middle;\n",
       "    }\n",
       "\n",
       "    .dataframe tbody tr th {\n",
       "        vertical-align: top;\n",
       "    }\n",
       "\n",
       "    .dataframe thead th {\n",
       "        text-align: right;\n",
       "    }\n",
       "</style>\n",
       "<table border=\"1\" class=\"dataframe\">\n",
       "  <thead>\n",
       "    <tr style=\"text-align: right;\">\n",
       "      <th></th>\n",
       "      <th>index</th>\n",
       "      <th>NPI</th>\n",
       "      <th>Full_Name</th>\n",
       "      <th>Hospital_Name</th>\n",
       "      <th>EventType</th>\n",
       "      <th>EventCount</th>\n",
       "    </tr>\n",
       "  </thead>\n",
       "  <tbody>\n",
       "    <tr>\n",
       "      <th>0</th>\n",
       "      <td>0</td>\n",
       "      <td>1003042516</td>\n",
       "      <td>Nagina Aslam</td>\n",
       "      <td>HENRY FORD MACOMB HOSPITAL</td>\n",
       "      <td>Impression</td>\n",
       "      <td>19</td>\n",
       "    </tr>\n",
       "    <tr>\n",
       "      <th>1</th>\n",
       "      <td>1</td>\n",
       "      <td>1003073735</td>\n",
       "      <td>Keri Fair</td>\n",
       "      <td>WEST SUBURBAN MEDICAL CENTER</td>\n",
       "      <td>Impression</td>\n",
       "      <td>73</td>\n",
       "    </tr>\n",
       "    <tr>\n",
       "      <th>2</th>\n",
       "      <td>2</td>\n",
       "      <td>1003100397</td>\n",
       "      <td>Susmita Senapati</td>\n",
       "      <td>NaN</td>\n",
       "      <td>Impression</td>\n",
       "      <td>14</td>\n",
       "    </tr>\n",
       "    <tr>\n",
       "      <th>3</th>\n",
       "      <td>3</td>\n",
       "      <td>1003160714</td>\n",
       "      <td>Lindsi Dearment</td>\n",
       "      <td>LANCASTER GENERAL HOSPITAL</td>\n",
       "      <td>Impression</td>\n",
       "      <td>1</td>\n",
       "    </tr>\n",
       "    <tr>\n",
       "      <th>4</th>\n",
       "      <td>4</td>\n",
       "      <td>1003222159</td>\n",
       "      <td>Rita All</td>\n",
       "      <td>SARATOGA HOSPITAL</td>\n",
       "      <td>Impression</td>\n",
       "      <td>10</td>\n",
       "    </tr>\n",
       "    <tr>\n",
       "      <th>...</th>\n",
       "      <td>...</td>\n",
       "      <td>...</td>\n",
       "      <td>...</td>\n",
       "      <td>...</td>\n",
       "      <td>...</td>\n",
       "      <td>...</td>\n",
       "    </tr>\n",
       "    <tr>\n",
       "      <th>2439</th>\n",
       "      <td>2439</td>\n",
       "      <td>1992799779</td>\n",
       "      <td>Paul McAvoy</td>\n",
       "      <td>NaN</td>\n",
       "      <td>Impression</td>\n",
       "      <td>3</td>\n",
       "    </tr>\n",
       "    <tr>\n",
       "      <th>2440</th>\n",
       "      <td>2440</td>\n",
       "      <td>1992807358</td>\n",
       "      <td>Jeffrey Herman</td>\n",
       "      <td>ST JOHN HOSPITAL AND MEDICAL CENTER</td>\n",
       "      <td>Impression</td>\n",
       "      <td>207</td>\n",
       "    </tr>\n",
       "    <tr>\n",
       "      <th>2441</th>\n",
       "      <td>2441</td>\n",
       "      <td>1992816615</td>\n",
       "      <td>James Humphrey</td>\n",
       "      <td>ALLEGHENY VALLEY HOSPITAL</td>\n",
       "      <td>Impression</td>\n",
       "      <td>12</td>\n",
       "    </tr>\n",
       "    <tr>\n",
       "      <th>2442</th>\n",
       "      <td>2442</td>\n",
       "      <td>1992920771</td>\n",
       "      <td>Michelle Kelly</td>\n",
       "      <td>CHRISTIANA HOSPITAL</td>\n",
       "      <td>Impression</td>\n",
       "      <td>1</td>\n",
       "    </tr>\n",
       "    <tr>\n",
       "      <th>2443</th>\n",
       "      <td>2443</td>\n",
       "      <td>1992997647</td>\n",
       "      <td>Matthew Roberge</td>\n",
       "      <td>MERCY HEALTH LAKESHORE CAMPUS</td>\n",
       "      <td>Impression</td>\n",
       "      <td>78</td>\n",
       "    </tr>\n",
       "  </tbody>\n",
       "</table>\n",
       "<p>2444 rows × 6 columns</p>\n",
       "</div>"
      ],
      "text/plain": [
       "      index         NPI         Full_Name  \\\n",
       "0         0  1003042516      Nagina Aslam   \n",
       "1         1  1003073735         Keri Fair   \n",
       "2         2  1003100397  Susmita Senapati   \n",
       "3         3  1003160714   Lindsi Dearment   \n",
       "4         4  1003222159          Rita All   \n",
       "...     ...         ...               ...   \n",
       "2439   2439  1992799779       Paul McAvoy   \n",
       "2440   2440  1992807358    Jeffrey Herman   \n",
       "2441   2441  1992816615    James Humphrey   \n",
       "2442   2442  1992920771    Michelle Kelly   \n",
       "2443   2443  1992997647   Matthew Roberge   \n",
       "\n",
       "                            Hospital_Name   EventType  EventCount  \n",
       "0              HENRY FORD MACOMB HOSPITAL  Impression          19  \n",
       "1            WEST SUBURBAN MEDICAL CENTER  Impression          73  \n",
       "2                                     NaN  Impression          14  \n",
       "3              LANCASTER GENERAL HOSPITAL  Impression           1  \n",
       "4                       SARATOGA HOSPITAL  Impression          10  \n",
       "...                                   ...         ...         ...  \n",
       "2439                                  NaN  Impression           3  \n",
       "2440  ST JOHN HOSPITAL AND MEDICAL CENTER  Impression         207  \n",
       "2441            ALLEGHENY VALLEY HOSPITAL  Impression          12  \n",
       "2442                  CHRISTIANA HOSPITAL  Impression           1  \n",
       "2443        MERCY HEALTH LAKESHORE CAMPUS  Impression          78  \n",
       "\n",
       "[2444 rows x 6 columns]"
      ]
     },
     "execution_count": 34,
     "metadata": {},
     "output_type": "execute_result"
    }
   ],
   "source": [
    "ad_fire = ad_fire.groupby(ad_fire.columns.tolist(), as_index=False, dropna=False).size()\n",
    "ad_fire = ad_fire.rename(columns={\"size\": \"EventCount\"})\n",
    "ad_fire.fillna('NaN', inplace=True)\n",
    "ad_fire = ad_fire.reset_index()\n",
    "ad_fire"
   ]
  },
  {
   "cell_type": "code",
   "execution_count": 35,
   "metadata": {},
   "outputs": [
    {
     "name": "stdout",
     "output_type": "stream",
     "text": [
      "['index', 'NPI', 'Full_Name', 'Hospital_Name', 'EventType', 'EventCount']\n",
      "111105\n"
     ]
    }
   ],
   "source": [
    "print(ad_fire.columns.tolist())\n",
    "print(ad_fire['EventCount'].sum())"
   ]
  },
  {
   "cell_type": "code",
   "execution_count": 36,
   "metadata": {},
   "outputs": [
    {
     "name": "stdout",
     "output_type": "stream",
     "text": [
      "Index(['When added', 'Created Date', 'Contact 18 digit Id', 'Contact ID',\n",
      "       '18 Account ID', 'Full Name', 'Title', 'Email', 'Parent Account',\n",
      "       'Account Name', 'Mailing Street', 'Mailing City',\n",
      "       'Mailing State/Province (text only)', 'Mailing Zip/Postal Code',\n",
      "       'Phone', 'Fax', 'Mobile', 'Account Owner', 'Parent Level',\n",
      "       'Account Level', 'Status', 'Provider NPI', 'Account Record Type',\n",
      "       'Vatica Site ID', 'Provider Engagement Rep',\n",
      "       'June Multisource Campaign', 'Closed Won', 'Account Domain',\n",
      "       'Prioirty'],\n",
      "      dtype='object')\n",
      "Index(['index', 'NPI', 'Full_Name', 'Account_Name'], dtype='object')\n"
     ]
    }
   ],
   "source": [
    "print(target_raw.columns)\n",
    "target = target_raw[['Provider NPI','Full Name', 'Account Name']]\n",
    "target = target.rename(columns={\"Provider NPI\": \"NPI\",\"Account Name\": \"Account_Name\", \"Full Name\": \"Full_Name\"})\n",
    "target['Full_Name'].fillna('NaN', inplace=True)\n",
    "target['Account_Name'].fillna('NaN', inplace=True)\n",
    "target['NPI'].fillna(0, inplace=True)\n",
    "target = target.reset_index()\n",
    "print(target.columns)"
   ]
  },
  {
   "cell_type": "code",
   "execution_count": 37,
   "metadata": {},
   "outputs": [],
   "source": [
    "data_map = {}\n",
    "impress = 0\n",
    "clk = 0\n",
    "for index, row in ad_fire.iterrows():\n",
    "  if row['EventType'] == 'Impression': \n",
    "    impress += row['EventCount']\n",
    "  else:\n",
    "    clk += row['EventCount']\n",
    "  if row['Hospital_Name'] in data_map:\n",
    "    if row['Full_Name'] in data_map[row['Hospital_Name']]:\n",
    "      data_map[row['Hospital_Name']][row['Full_Name']][row['EventType']] = row['EventCount']\n",
    "    else:\n",
    "      data_map[row['Hospital_Name']][row['Full_Name']] = {\n",
    "        'NPI': row['NPI'],\n",
    "        row['EventType']: row['EventCount']\n",
    "      }\n",
    "  else:\n",
    "    data_map[row['Hospital_Name']] = {\n",
    "      row['Full_Name']: {\n",
    "        'NPI': row['NPI'],\n",
    "        row['EventType']: row['EventCount'],\n",
    "      }\n",
    "    }"
   ]
  },
  {
   "cell_type": "code",
   "execution_count": 38,
   "metadata": {},
   "outputs": [],
   "source": [
    "with open('./test_031.json', 'w') as f:\n",
    "  json.dump(data_map, f, indent=4)"
   ]
  },
  {
   "cell_type": "code",
   "execution_count": 39,
   "metadata": {},
   "outputs": [],
   "source": [
    "def _clean_name(name):\n",
    "  name = str(name)\n",
    "  name = name.translate(\n",
    "      str.maketrans('', '', string.punctuation))\n",
    "  name = name.replace(\"Dr\", '')\n",
    "  name = name.replace(\"MD\", '')\n",
    "  name = name.replace(\"RD\", '')\n",
    "  name = name.replace(\"BSN\", '')\n",
    "  name = name.replace(\"DO\", '')\n",
    "  name = name.strip()\n",
    "  return name"
   ]
  },
  {
   "cell_type": "code",
   "execution_count": 40,
   "metadata": {},
   "outputs": [],
   "source": [
    "target_companies = {}\n",
    "for index, row in target.iterrows():\n",
    "  if row['Account_Name'] in target_companies:\n",
    "    target_companies[row['Account_Name']]['people'].append({row['NPI'] : _clean_name(row['Full_Name'])})\n",
    "  else:\n",
    "    target_companies[row['Account_Name']] = {\n",
    "      'people': [{int(row['NPI']): _clean_name(row['Full_Name'])}]\n",
    "    }"
   ]
  },
  {
   "cell_type": "code",
   "execution_count": 41,
   "metadata": {},
   "outputs": [],
   "source": [
    "with open('./test_032.json', 'w') as f:\n",
    "  json.dump(target_companies, f, indent=4)"
   ]
  },
  {
   "cell_type": "code",
   "execution_count": 42,
   "metadata": {},
   "outputs": [],
   "source": [
    "def sim(name, name_2):\n",
    "  name = clean_name(name)\n",
    "  name_2 = clean_name(name_2)\n",
    "  cond1 = name in name_2\n",
    "  cond2 = similar(name, name_2) > 0.75\n",
    "  cond3 = name.split()[0] == name_2.split()[0]\n",
    "  cond4 = similar(name, name_2) > 0.9\n",
    "  return cond1 or (cond2 and cond3) or cond4"
   ]
  },
  {
   "cell_type": "code",
   "execution_count": 43,
   "metadata": {},
   "outputs": [
    {
     "name": "stdout",
     "output_type": "stream",
     "text": [
      "11.875\n",
      "9.81067125645439\n"
     ]
    }
   ],
   "source": [
    "ad_fire_comp = list(data_map.keys())\n",
    "target_comp = list(target_companies.keys())\n",
    "cross = {}\n",
    "for t_comp in target_comp:\n",
    "  for comp in ad_fire_comp:\n",
    "    if sim(comp, t_comp):\n",
    "      if t_comp in cross:\n",
    "        cross[t_comp].append(comp)\n",
    "      else:\n",
    "        cross[t_comp] = [comp]\n",
    "\n",
    "print(len(list(cross.keys())) / len(list(data_map.keys())) * 100)\n",
    "print(len(list(cross.keys())) / len(list(target_companies.keys())) * 100)"
   ]
  },
  {
   "cell_type": "code",
   "execution_count": 44,
   "metadata": {},
   "outputs": [],
   "source": [
    "with open('./test_033.json', 'w') as f:\n",
    "  json.dump(cross, f, indent=4)"
   ]
  },
  {
   "cell_type": "code",
   "execution_count": 45,
   "metadata": {},
   "outputs": [],
   "source": [
    "def extract(lst):\n",
    "  names = []\n",
    "  NPIs = []\n",
    "  impressions = 0\n",
    "  clicks = 0\n",
    "  for name in lst:\n",
    "    names.append(name)\n",
    "    NPIs.append(lst[name]['NPI'])\n",
    "    if 'Impression' in lst[name]:\n",
    "      impressions += lst[name]['Impression']\n",
    "    if 'Click' in lst[name]:\n",
    "      clicks += lst[name]['Click']\n",
    "  return names, impressions, clicks, NPIs\n",
    "\n",
    "\n",
    "def t_extract(lst):\n",
    "  NPIs = []\n",
    "  names = []\n",
    "  for person in lst:\n",
    "    NPIs += list(person.keys())\n",
    "    names += list(person.values())\n",
    "  return NPIs, names"
   ]
  },
  {
   "cell_type": "code",
   "execution_count": 54,
   "metadata": {},
   "outputs": [
    {
     "name": "stdout",
     "output_type": "stream",
     "text": [
      "# Impressions: 41461\n",
      "# Clicks: 63\n",
      "# Ad_fire_names: 766\n",
      "# Target_names: 311\n",
      "# Crossed_names: 1\n",
      "% of total Impressions: 37.35528105882459\n",
      "% of total Clicks: 55.26315789473685\n",
      "2\n",
      "{'Regina Makdissi', 'NaN'}\n",
      "0\n",
      "set()\n"
     ]
    }
   ],
   "source": [
    "detail = {}\n",
    "total_imp = 0\n",
    "total_click = 0\n",
    "total_names = 0\n",
    "total_target = 0\n",
    "total_duplicate = 0\n",
    "all_names_ad_fire = []\n",
    "all_names_target = []\n",
    "all_npis = []\n",
    "all_t_npis = []\n",
    "for t_comp in list(cross.keys()):\n",
    "  for comp in cross[t_comp]:\n",
    "    names, impressions, clicks, NPIs = extract(data_map[comp])\n",
    "    t_npi, t_names = t_extract(target_companies[t_comp]['people'])\n",
    "    all_npis += NPIs\n",
    "    all_t_npis += t_npi\n",
    "    total_imp += impressions\n",
    "    total_click += clicks\n",
    "    total_names += len(names)\n",
    "    total_target += len(t_names)\n",
    "    all_names_ad_fire += names\n",
    "    all_names_target += t_names\n",
    "    d_names = set(names).intersection(set(t_names))\n",
    "    total_duplicate += len(list(d_names))\n",
    "    detail[t_comp] = {\n",
    "      # 'Names_Ad_Fire': names,\n",
    "      # 'Names_Target': t_names,\n",
    "      'Impressions': impressions,\n",
    "      'Clicks': clicks,\n",
    "      # 'Duplicate_names': list(d_names),\n",
    "    }\n",
    "print(\"# Impressions: {}\\n# Clicks: {}\\n# Ad_fire_names: {}\\n# Target_names: {}\\n# Crossed_names: {}\".format(total_imp, total_click, total_names, total_target, total_duplicate))\n",
    "print(\"% of total Impressions: {}\\n% of total Clicks: {}\".format(total_imp / impress * 100, total_click / clk * 100))\n",
    "\n",
    "all_d_names = set(all_names_ad_fire).intersection(set(all_names_target))\n",
    "print(len(all_d_names))\n",
    "print(all_d_names)\n",
    "\n",
    "all_d_npi = set(all_npis).intersection(set(all_t_npis))\n",
    "print(len(all_d_npi))\n",
    "print(all_d_npi)\n",
    "\n",
    "with open('./test_034_1.json', 'w') as f:\n",
    "  json.dump(detail, f, indent=4)"
   ]
  },
  {
   "cell_type": "code",
   "execution_count": 47,
   "metadata": {},
   "outputs": [
    {
     "name": "stdout",
     "output_type": "stream",
     "text": [
      "420 60 480\n"
     ]
    }
   ],
   "source": [
    "matched = []\n",
    "for comp in list(cross.values()):\n",
    "  matched += comp\n",
    "matched = list(set(matched))\n",
    "\n",
    "unmatched = [x  for x in list(data_map.keys()) if x not in matched ]\n",
    "print(len(unmatched), len(matched), len(list(data_map.keys())))\n",
    "with open('./test_035_0.json', 'w') as f:\n",
    "  json.dump({'Matched Companies': matched, 'Unmatched Companies': unmatched}, f, indent=4)\n",
    "with open('./unmatched_new.json', 'w') as f:\n",
    "  json.dump(unmatched, f, indent=4)"
   ]
  },
  {
   "cell_type": "code",
   "execution_count": 48,
   "metadata": {},
   "outputs": [
    {
     "name": "stdout",
     "output_type": "stream",
     "text": [
      "unity hospital\n",
      "cameron memorial community hospital hospital\n"
     ]
    }
   ],
   "source": [
    "print(clean_name(\"UNITY HOSPITAL\"))\n",
    "print(clean_name(\"Hospital IN - Cameron Memorial Community Hospital Hospital - 1415 FLAXMILL RD\"))"
   ]
  },
  {
   "cell_type": "code",
   "execution_count": 49,
   "metadata": {},
   "outputs": [],
   "source": [
    "def clean_creative(name):\n",
    "  if type(name) == float:\n",
    "    print(name)\n",
    "    name = str(name)\n",
    "  if name.count('_') < 4: \n",
    "    print(name)\n",
    "    return 'NaN'\n",
    "  if name.split('_')[2] == 'EntryPoint1A':\n",
    "    return name.split('_')[2]\n",
    "  elif name.split('_')[2].startswith('GTM') or name.split('_')[2].startswith('Entry'):\n",
    "    return name.split('_')[3]\n",
    "  else:\n",
    "    print(name)\n",
    "    return 'NaN'\n"
   ]
  },
  {
   "cell_type": "code",
   "execution_count": 50,
   "metadata": {},
   "outputs": [
    {
     "name": "stderr",
     "output_type": "stream",
     "text": [
      "/Library/Frameworks/Python.framework/Versions/3.9/lib/python3.9/site-packages/pandas/core/indexing.py:1732: SettingWithCopyWarning: \n",
      "A value is trying to be set on a copy of a slice from a DataFrame\n",
      "\n",
      "See the caveats in the documentation: https://pandas.pydata.org/pandas-docs/stable/user_guide/indexing.html#returning-a-view-versus-a-copy\n",
      "  self._setitem_single_block(indexer, value, name)\n",
      "/Library/Frameworks/Python.framework/Versions/3.9/lib/python3.9/site-packages/pandas/core/indexing.py:723: SettingWithCopyWarning: \n",
      "A value is trying to be set on a copy of a slice from a DataFrame\n",
      "\n",
      "See the caveats in the documentation: https://pandas.pydata.org/pandas-docs/stable/user_guide/indexing.html#returning-a-view-versus-a-copy\n",
      "  iloc._setitem_with_indexer(indexer, value, self.name)\n"
     ]
    },
    {
     "data": {
      "text/html": [
       "<div>\n",
       "<style scoped>\n",
       "    .dataframe tbody tr th:only-of-type {\n",
       "        vertical-align: middle;\n",
       "    }\n",
       "\n",
       "    .dataframe tbody tr th {\n",
       "        vertical-align: top;\n",
       "    }\n",
       "\n",
       "    .dataframe thead th {\n",
       "        text-align: right;\n",
       "    }\n",
       "</style>\n",
       "<table border=\"1\" class=\"dataframe\">\n",
       "  <thead>\n",
       "    <tr style=\"text-align: right;\">\n",
       "      <th></th>\n",
       "      <th>Creative_Name</th>\n",
       "      <th>EventType</th>\n",
       "    </tr>\n",
       "  </thead>\n",
       "  <tbody>\n",
       "    <tr>\n",
       "      <th>0</th>\n",
       "      <td>Accurate Patient Data</td>\n",
       "      <td>Impression</td>\n",
       "    </tr>\n",
       "    <tr>\n",
       "      <th>1</th>\n",
       "      <td>Accurate Patient Data</td>\n",
       "      <td>Impression</td>\n",
       "    </tr>\n",
       "    <tr>\n",
       "      <th>2</th>\n",
       "      <td>EntryPoint1A</td>\n",
       "      <td>Impression</td>\n",
       "    </tr>\n",
       "    <tr>\n",
       "      <th>3</th>\n",
       "      <td>Accurate Patient Data</td>\n",
       "      <td>Impression</td>\n",
       "    </tr>\n",
       "    <tr>\n",
       "      <th>4</th>\n",
       "      <td>EntryPoint1A</td>\n",
       "      <td>Impression</td>\n",
       "    </tr>\n",
       "    <tr>\n",
       "      <th>...</th>\n",
       "      <td>...</td>\n",
       "      <td>...</td>\n",
       "    </tr>\n",
       "    <tr>\n",
       "      <th>111100</th>\n",
       "      <td>Accurate Patient Data</td>\n",
       "      <td>Impression</td>\n",
       "    </tr>\n",
       "    <tr>\n",
       "      <th>111101</th>\n",
       "      <td>EntryPoint1A</td>\n",
       "      <td>Impression</td>\n",
       "    </tr>\n",
       "    <tr>\n",
       "      <th>111102</th>\n",
       "      <td>Relieve Admin Burdens</td>\n",
       "      <td>Impression</td>\n",
       "    </tr>\n",
       "    <tr>\n",
       "      <th>111103</th>\n",
       "      <td>Accurate Patient Data</td>\n",
       "      <td>Impression</td>\n",
       "    </tr>\n",
       "    <tr>\n",
       "      <th>111104</th>\n",
       "      <td>Relieve Admin Burdens</td>\n",
       "      <td>Impression</td>\n",
       "    </tr>\n",
       "  </tbody>\n",
       "</table>\n",
       "<p>111105 rows × 2 columns</p>\n",
       "</div>"
      ],
      "text/plain": [
       "                Creative_Name   EventType\n",
       "0       Accurate Patient Data  Impression\n",
       "1       Accurate Patient Data  Impression\n",
       "2                EntryPoint1A  Impression\n",
       "3       Accurate Patient Data  Impression\n",
       "4                EntryPoint1A  Impression\n",
       "...                       ...         ...\n",
       "111100  Accurate Patient Data  Impression\n",
       "111101           EntryPoint1A  Impression\n",
       "111102  Relieve Admin Burdens  Impression\n",
       "111103  Accurate Patient Data  Impression\n",
       "111104  Relieve Admin Burdens  Impression\n",
       "\n",
       "[111105 rows x 2 columns]"
      ]
     },
     "execution_count": 50,
     "metadata": {},
     "output_type": "execute_result"
    }
   ],
   "source": [
    "creative_raw = ad_fire_raw[['Creative_Name', 'EventType']]\n",
    "for index, row in creative_raw.iterrows():\n",
    "  creative_raw.loc[index, ['Creative_Name']] = [clean_creative(row['Creative_Name'])]\n",
    "creative_raw"
   ]
  },
  {
   "cell_type": "code",
   "execution_count": 51,
   "metadata": {},
   "outputs": [
    {
     "data": {
      "text/html": [
       "<div>\n",
       "<style scoped>\n",
       "    .dataframe tbody tr th:only-of-type {\n",
       "        vertical-align: middle;\n",
       "    }\n",
       "\n",
       "    .dataframe tbody tr th {\n",
       "        vertical-align: top;\n",
       "    }\n",
       "\n",
       "    .dataframe thead th {\n",
       "        text-align: right;\n",
       "    }\n",
       "</style>\n",
       "<table border=\"1\" class=\"dataframe\">\n",
       "  <thead>\n",
       "    <tr style=\"text-align: right;\">\n",
       "      <th></th>\n",
       "      <th>Creative_Name</th>\n",
       "      <th>EventType</th>\n",
       "    </tr>\n",
       "  </thead>\n",
       "  <tbody>\n",
       "  </tbody>\n",
       "</table>\n",
       "</div>"
      ],
      "text/plain": [
       "Empty DataFrame\n",
       "Columns: [Creative_Name, EventType]\n",
       "Index: []"
      ]
     },
     "execution_count": 51,
     "metadata": {},
     "output_type": "execute_result"
    }
   ],
   "source": [
    "creative_raw.loc[225106:225108]"
   ]
  },
  {
   "cell_type": "code",
   "execution_count": 52,
   "metadata": {},
   "outputs": [
    {
     "data": {
      "text/html": [
       "<div>\n",
       "<style scoped>\n",
       "    .dataframe tbody tr th:only-of-type {\n",
       "        vertical-align: middle;\n",
       "    }\n",
       "\n",
       "    .dataframe tbody tr th {\n",
       "        vertical-align: top;\n",
       "    }\n",
       "\n",
       "    .dataframe thead th {\n",
       "        text-align: right;\n",
       "    }\n",
       "</style>\n",
       "<table border=\"1\" class=\"dataframe\">\n",
       "  <thead>\n",
       "    <tr style=\"text-align: right;\">\n",
       "      <th></th>\n",
       "      <th>index</th>\n",
       "      <th>Creative_Name</th>\n",
       "      <th>EventType</th>\n",
       "      <th>EventCount</th>\n",
       "    </tr>\n",
       "  </thead>\n",
       "  <tbody>\n",
       "    <tr>\n",
       "      <th>0</th>\n",
       "      <td>0</td>\n",
       "      <td>Accurate Patient Data</td>\n",
       "      <td>Click</td>\n",
       "      <td>30</td>\n",
       "    </tr>\n",
       "    <tr>\n",
       "      <th>1</th>\n",
       "      <td>1</td>\n",
       "      <td>Accurate Patient Data</td>\n",
       "      <td>Impression</td>\n",
       "      <td>28718</td>\n",
       "    </tr>\n",
       "    <tr>\n",
       "      <th>2</th>\n",
       "      <td>2</td>\n",
       "      <td>EntryPoint1A</td>\n",
       "      <td>Click</td>\n",
       "      <td>43</td>\n",
       "    </tr>\n",
       "    <tr>\n",
       "      <th>3</th>\n",
       "      <td>3</td>\n",
       "      <td>EntryPoint1A</td>\n",
       "      <td>Impression</td>\n",
       "      <td>39631</td>\n",
       "    </tr>\n",
       "    <tr>\n",
       "      <th>4</th>\n",
       "      <td>4</td>\n",
       "      <td>Relieve Admin Burdens</td>\n",
       "      <td>Click</td>\n",
       "      <td>35</td>\n",
       "    </tr>\n",
       "    <tr>\n",
       "      <th>5</th>\n",
       "      <td>5</td>\n",
       "      <td>Relieve Admin Burdens</td>\n",
       "      <td>Impression</td>\n",
       "      <td>35337</td>\n",
       "    </tr>\n",
       "    <tr>\n",
       "      <th>6</th>\n",
       "      <td>6</td>\n",
       "      <td>Value Based Care</td>\n",
       "      <td>Click</td>\n",
       "      <td>6</td>\n",
       "    </tr>\n",
       "    <tr>\n",
       "      <th>7</th>\n",
       "      <td>7</td>\n",
       "      <td>Value Based Care</td>\n",
       "      <td>Impression</td>\n",
       "      <td>7305</td>\n",
       "    </tr>\n",
       "  </tbody>\n",
       "</table>\n",
       "</div>"
      ],
      "text/plain": [
       "   index          Creative_Name   EventType  EventCount\n",
       "0      0  Accurate Patient Data       Click          30\n",
       "1      1  Accurate Patient Data  Impression       28718\n",
       "2      2           EntryPoint1A       Click          43\n",
       "3      3           EntryPoint1A  Impression       39631\n",
       "4      4  Relieve Admin Burdens       Click          35\n",
       "5      5  Relieve Admin Burdens  Impression       35337\n",
       "6      6       Value Based Care       Click           6\n",
       "7      7       Value Based Care  Impression        7305"
      ]
     },
     "execution_count": 52,
     "metadata": {},
     "output_type": "execute_result"
    }
   ],
   "source": [
    "creative = creative_raw.copy()\n",
    "creative = creative.groupby(creative.columns.tolist(), as_index=False, dropna=False).size()\n",
    "creative = creative.rename(columns={\"size\": \"EventCount\"})\n",
    "creative.fillna('NaN', inplace=True)\n",
    "creative = creative.reset_index()\n",
    "creative"
   ]
  },
  {
   "cell_type": "code",
   "execution_count": 53,
   "metadata": {},
   "outputs": [],
   "source": [
    "creative.to_csv(path_or_buf='./Creative_breakdown_1.csv', index=False)"
   ]
  }
 ],
 "metadata": {
  "kernelspec": {
   "display_name": "Python 3.9.7 64-bit",
   "language": "python",
   "name": "python3"
  },
  "language_info": {
   "codemirror_mode": {
    "name": "ipython",
    "version": 3
   },
   "file_extension": ".py",
   "mimetype": "text/x-python",
   "name": "python",
   "nbconvert_exporter": "python",
   "pygments_lexer": "ipython3",
   "version": "3.9.7 (v3.9.7:1016ef3790, Aug 30 2021, 16:39:15) \n[Clang 6.0 (clang-600.0.57)]"
  },
  "orig_nbformat": 4,
  "vscode": {
   "interpreter": {
    "hash": "7812ea015bdcee6f23a998adcdd2ef97c151c0c241b7b7070987d9313e41299d"
   }
  }
 },
 "nbformat": 4,
 "nbformat_minor": 2
}
